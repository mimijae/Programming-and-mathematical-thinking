from sympy import symbols, exp, cos, integrate

x = symbols('x')
expr15 = 2 * x * exp(x**2) - cos(x) + 1 / x**2

# x에 대해 1부터 2까지 정적분
integral_expr15 = integrate(expr15, (x, 1, 2))
print(integral_expr15)
