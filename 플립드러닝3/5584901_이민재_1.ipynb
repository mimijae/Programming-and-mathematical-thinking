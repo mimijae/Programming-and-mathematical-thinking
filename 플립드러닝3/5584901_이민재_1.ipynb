# 문제 1. 다음 함수를 정의하고 (x, y) = (1, -2)에서의 값을 계산하시오.
#  x^2 + xy - 3y + 1

import sympy as sp

# 변수 정의
x, y = sp.symbols('x y')

# 함수 정의
f = x**2 + x*y - 3*y + 1

# 점 (1, -2)에서의 값 계산
value = f.subs({x: 1, y: -2})

print(value)
