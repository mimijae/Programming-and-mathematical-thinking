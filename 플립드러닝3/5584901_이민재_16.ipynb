from sympy import symbols, Eq, solve

x = symbols('x')
expr16 = -x + 1 / (x + 1)
equation16 = Eq(expr16, 0)

# 방정식의 해 구하기
solution16 = solve(equation16, x)
print(solution16)
