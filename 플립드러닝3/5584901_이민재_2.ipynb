# 문제 2. 문제1에서 정의한 함수의 x에 y를 대입한 결과를 계산하시오.
from sympy import symbols

x, y = symbols('x y')
expr = x**2 + x*y - 3*y + 1
result = expr.subs({x: 1, y: -2})
result
expr_y_in_x = expr.subs(x, y)
print(expr_y_in_x)