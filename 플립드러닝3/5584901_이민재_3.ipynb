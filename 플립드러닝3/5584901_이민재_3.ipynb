from sympy import symbols, sin, cos, simplify

x = symbols('x')
expr = 2 / (sin(x)**2 + cos(x)**2 + 1)
simplified_expr = simplify(expr)
print(simplified_expr)
