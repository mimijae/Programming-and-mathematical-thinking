from sympy import symbols, expand

x, y = symbols('x y')
expr9 = (x + y - 1)**2 * (x + y + 1)**2

# 전개 후 x에 대한 내림차순으로 정렬
expanded_expr9 = expand(expr9).expand()
print(expanded_expr9)
