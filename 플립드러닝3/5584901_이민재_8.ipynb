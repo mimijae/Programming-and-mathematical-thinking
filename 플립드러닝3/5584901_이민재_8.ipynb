from sympy import symbols, sin, cos, pi, simplify

x = symbols('x')

expr8 = (x**2 + 2*x + 1) / (x**3 + x**2 - x - 1)
simplified_expr8 = simplify(expr8)
print("결과:", simplified_expr8)
