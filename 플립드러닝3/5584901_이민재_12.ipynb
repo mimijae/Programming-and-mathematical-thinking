from sympy import symbols, sin, cos, pi, limit

x = symbols('x')

expr12 = cos(pi * x / 2)**2 / (x - 1)**2
limit_expr12 = limit(expr12, x, 1)
print("결과:", limit_expr12)