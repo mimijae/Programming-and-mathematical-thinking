from sympy import symbols, factor

x = symbols('x')
expr = x**3 - 8
factored_expr = factor(expr)
print(factored_expr)
