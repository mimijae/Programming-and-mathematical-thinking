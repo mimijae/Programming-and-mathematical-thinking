from sympy import symbols, cancel

x = symbols('x')
expr10 = 2 / (x - 1) + (3 * x / 2 - 3) / (x - 2)

# 통분하여 단순화
simplified_expr10 = cancel(expr10)
print(simplified_expr10)
