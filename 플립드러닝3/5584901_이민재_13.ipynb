from sympy import symbols, sin, exp, diff

x, y = symbols('x y')
expr13 = sin(x**2 * y) + exp(-x**2)

# x에 대한 편미분
partial_derivative_x = diff(expr13, x)
print(partial_derivative_x)
