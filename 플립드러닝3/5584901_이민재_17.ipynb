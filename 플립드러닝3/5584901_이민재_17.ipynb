import matplotlib.pyplot as plt
import numpy as np

# 함수 정의
def f(x):
    return x**2 + np.cos(x)

# x 값의 범위 설정
x = np.linspace(-2, 2, 400)
y = f(x)

# 그래프 그리기
plt.plot(x, y, label=r"$x^2 + \cos(x)$")
plt.xlabel("x")
plt.ylabel("f(x)")
plt.title("Graph of $x^2 + \cos(x)$ from x = -2 to x = 2")
plt.legend()
plt.grid(True)
plt.show()
