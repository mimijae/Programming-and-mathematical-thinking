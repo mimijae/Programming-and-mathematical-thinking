from sympy import symbols, sin, cos, pi, simplify

x = symbols('x')

expr7 = sin(x / 2)**2 - cos(x / 3)**2
result7 = expr7.subs(x, pi)
print("결과:", result7)
