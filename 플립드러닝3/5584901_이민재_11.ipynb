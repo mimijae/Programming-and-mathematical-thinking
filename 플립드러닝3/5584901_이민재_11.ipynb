from sympy import symbols, sin, cos, pi, limit

x = symbols('x')

expr11 = sin(x) / x
limit_expr11 = limit(expr11, x, 0)
print("결과:", limit_expr11)


