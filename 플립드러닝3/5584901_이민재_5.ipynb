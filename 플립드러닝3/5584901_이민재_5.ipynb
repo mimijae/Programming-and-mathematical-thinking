from sympy import symbols, diff, exp

x, y = symbols('x y')
expr = x + y**2 + exp(x * y) + 1

# x에 대해 1회 미분
diff_x = diff(expr, x)

# y에 대해 2회 미분
diff_y2 = diff(expr, y, 2)

print("x에 대해 1회 미분:", diff_x)
print("y에 대해 2회 미분:", diff_y2)
