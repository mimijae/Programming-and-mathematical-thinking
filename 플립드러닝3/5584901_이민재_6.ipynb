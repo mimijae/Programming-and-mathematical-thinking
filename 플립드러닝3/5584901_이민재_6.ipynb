from sympy import symbols, exp, integrate

x = symbols('x')
expr = exp(-x) + 1/x

# 정적분 구하기
integral_expr = integrate(expr, x)
print(integral_expr)
