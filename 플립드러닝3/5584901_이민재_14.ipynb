from sympy import symbols, exp, cos, diff

x, y = symbols('x y')
expr14 = exp(-x**2 + y) + cos(x**2 - y)

# y에 대해 1회, x에 대해 2회 편미분
partial_derivative_y_x2 = diff(expr14, y, x, x)
print(partial_derivative_y_x2)
