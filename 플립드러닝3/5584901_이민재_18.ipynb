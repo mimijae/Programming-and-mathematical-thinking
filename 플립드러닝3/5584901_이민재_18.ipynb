import numpy as np
from mpl_toolkits.mplot3d import Axes3D
import matplotlib.pyplot as plt

# 함수 정의
def f(x, y):
    return np.sin(x - y) + np.cos(x + y)

# x, y 값의 범위 설정
x = np.linspace(-6, 6, 200)
y = np.linspace(-6, 6, 200)
X, Y = np.meshgrid(x, y)
Z = f(X, Y)

# 3D 그래프 그리기
fig = plt.figure()
ax = fig.add_subplot(111, projection='3d')
ax.plot_surface(X, Y, Z, cmap="viridis")

# 축 라벨 설정
ax.set_xlabel("X")
ax.set_ylabel("Y")
ax.set_zlabel("f(X, Y)")
ax.set_title("3D Plot of sin(x - y) + cos(x + y)")

plt.show()
